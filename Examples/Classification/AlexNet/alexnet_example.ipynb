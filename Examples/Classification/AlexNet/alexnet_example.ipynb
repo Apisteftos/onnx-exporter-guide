{
 "cells": [
  {
   "cell_type": "code",
   "execution_count": 29,
   "metadata": {},
   "outputs": [],
   "source": [
    "# Exporting Alex Net from Pytorch to ONNX format. "
   ]
  },
  {
   "cell_type": "code",
   "execution_count": 30,
   "metadata": {},
   "outputs": [],
   "source": [
    "import torch\n",
    "from torchvision.models import alexnet, AlexNet_Weights"
   ]
  },
  {
   "cell_type": "markdown",
   "metadata": {},
   "source": [
    "### Load the pre-trained model"
   ]
  },
  {
   "cell_type": "code",
   "execution_count": 31,
   "metadata": {},
   "outputs": [],
   "source": [
    "weights = AlexNet_Weights.DEFAULT\n",
    "alexnet = alexnet(weights=weights)"
   ]
  },
  {
   "cell_type": "markdown",
   "metadata": {},
   "source": [
    "## alternative "
   ]
  },
  {
   "cell_type": "code",
   "execution_count": 32,
   "metadata": {},
   "outputs": [],
   "source": [
    "#import torch\n",
    "#import torchvision.models as models\n",
    "\n",
    "#alexnet = models.alexnet(pretrained=True)"
   ]
  },
  {
   "cell_type": "markdown",
   "metadata": {},
   "source": [
    "### Provide random input tensor"
   ]
  },
  {
   "cell_type": "code",
   "execution_count": 33,
   "metadata": {},
   "outputs": [],
   "source": [
    "dummy_input = torch.randn(1, 3, 224, 224)"
   ]
  },
  {
   "cell_type": "markdown",
   "metadata": {},
   "source": [
    "### Export the model to onnx format\n",
    "\n",
    "If you wish input and output names make sure assign specific names in the runtime "
   ]
  },
  {
   "cell_type": "code",
   "execution_count": 34,
   "metadata": {},
   "outputs": [
    {
     "name": "stdout",
     "output_type": "stream",
     "text": [
      "Exported graph: graph(%input : Float(1, 3, 224, 224, strides=[150528, 50176, 224, 1], requires_grad=0, device=cpu),\n",
      "      %features.0.weight : Float(64, 3, 11, 11, strides=[363, 121, 11, 1], requires_grad=1, device=cpu),\n",
      "      %features.0.bias : Float(64, strides=[1], requires_grad=1, device=cpu),\n",
      "      %features.3.weight : Float(192, 64, 5, 5, strides=[1600, 25, 5, 1], requires_grad=1, device=cpu),\n",
      "      %features.3.bias : Float(192, strides=[1], requires_grad=1, device=cpu),\n",
      "      %features.6.weight : Float(384, 192, 3, 3, strides=[1728, 9, 3, 1], requires_grad=1, device=cpu),\n",
      "      %features.6.bias : Float(384, strides=[1], requires_grad=1, device=cpu),\n",
      "      %features.8.weight : Float(256, 384, 3, 3, strides=[3456, 9, 3, 1], requires_grad=1, device=cpu),\n",
      "      %features.8.bias : Float(256, strides=[1], requires_grad=1, device=cpu),\n",
      "      %features.10.weight : Float(256, 256, 3, 3, strides=[2304, 9, 3, 1], requires_grad=1, device=cpu),\n",
      "      %features.10.bias : Float(256, strides=[1], requires_grad=1, device=cpu),\n",
      "      %classifier.1.weight : Float(4096, 9216, strides=[9216, 1], requires_grad=1, device=cpu),\n",
      "      %classifier.1.bias : Float(4096, strides=[1], requires_grad=1, device=cpu),\n",
      "      %classifier.4.weight : Float(4096, 4096, strides=[4096, 1], requires_grad=1, device=cpu),\n",
      "      %classifier.4.bias : Float(4096, strides=[1], requires_grad=1, device=cpu),\n",
      "      %classifier.6.weight : Float(1000, 4096, strides=[4096, 1], requires_grad=1, device=cpu),\n",
      "      %classifier.6.bias : Float(1000, strides=[1], requires_grad=1, device=cpu)):\n",
      "  %/features/features.0/Conv_output_0 : Float(1, 64, 55, 55, strides=[193600, 3025, 55, 1], requires_grad=0, device=cpu) = onnx::Conv[dilations=[1, 1], group=1, kernel_shape=[11, 11], pads=[2, 2, 2, 2], strides=[4, 4], onnx_name=\"/features/features.0/Conv\"](%input, %features.0.weight, %features.0.bias), scope: torchvision.models.alexnet.AlexNet::/torch.nn.modules.container.Sequential::features/torch.nn.modules.conv.Conv2d::features.0 # /home/kostas84/Desktop/Programming/ONNX/onnx-exporter-guide/.venv/lib/python3.10/site-packages/torch/nn/modules/conv.py:456:0\n",
      "  %/features/features.1/Relu_output_0 : Float(1, 64, 55, 55, strides=[193600, 3025, 55, 1], requires_grad=1, device=cpu) = onnx::Relu[onnx_name=\"/features/features.1/Relu\"](%/features/features.0/Conv_output_0), scope: torchvision.models.alexnet.AlexNet::/torch.nn.modules.container.Sequential::features/torch.nn.modules.activation.ReLU::features.1 # /home/kostas84/Desktop/Programming/ONNX/onnx-exporter-guide/.venv/lib/python3.10/site-packages/torch/nn/functional.py:1498:0\n",
      "  %/features/features.2/MaxPool_output_0 : Float(1, 64, 27, 27, strides=[46656, 729, 27, 1], requires_grad=1, device=cpu) = onnx::MaxPool[ceil_mode=0, dilations=[1, 1], kernel_shape=[3, 3], pads=[0, 0, 0, 0], strides=[2, 2], onnx_name=\"/features/features.2/MaxPool\"](%/features/features.1/Relu_output_0), scope: torchvision.models.alexnet.AlexNet::/torch.nn.modules.container.Sequential::features/torch.nn.modules.pooling.MaxPool2d::features.2 # /home/kostas84/Desktop/Programming/ONNX/onnx-exporter-guide/.venv/lib/python3.10/site-packages/torch/nn/functional.py:796:0\n",
      "  %/features/features.3/Conv_output_0 : Float(1, 192, 27, 27, strides=[139968, 729, 27, 1], requires_grad=0, device=cpu) = onnx::Conv[dilations=[1, 1], group=1, kernel_shape=[5, 5], pads=[2, 2, 2, 2], strides=[1, 1], onnx_name=\"/features/features.3/Conv\"](%/features/features.2/MaxPool_output_0, %features.3.weight, %features.3.bias), scope: torchvision.models.alexnet.AlexNet::/torch.nn.modules.container.Sequential::features/torch.nn.modules.conv.Conv2d::features.3 # /home/kostas84/Desktop/Programming/ONNX/onnx-exporter-guide/.venv/lib/python3.10/site-packages/torch/nn/modules/conv.py:456:0\n",
      "  %/features/features.4/Relu_output_0 : Float(1, 192, 27, 27, strides=[139968, 729, 27, 1], requires_grad=1, device=cpu) = onnx::Relu[onnx_name=\"/features/features.4/Relu\"](%/features/features.3/Conv_output_0), scope: torchvision.models.alexnet.AlexNet::/torch.nn.modules.container.Sequential::features/torch.nn.modules.activation.ReLU::features.4 # /home/kostas84/Desktop/Programming/ONNX/onnx-exporter-guide/.venv/lib/python3.10/site-packages/torch/nn/functional.py:1498:0\n",
      "  %/features/features.5/MaxPool_output_0 : Float(1, 192, 13, 13, strides=[32448, 169, 13, 1], requires_grad=1, device=cpu) = onnx::MaxPool[ceil_mode=0, dilations=[1, 1], kernel_shape=[3, 3], pads=[0, 0, 0, 0], strides=[2, 2], onnx_name=\"/features/features.5/MaxPool\"](%/features/features.4/Relu_output_0), scope: torchvision.models.alexnet.AlexNet::/torch.nn.modules.container.Sequential::features/torch.nn.modules.pooling.MaxPool2d::features.5 # /home/kostas84/Desktop/Programming/ONNX/onnx-exporter-guide/.venv/lib/python3.10/site-packages/torch/nn/functional.py:796:0\n",
      "  %/features/features.6/Conv_output_0 : Float(1, 384, 13, 13, strides=[64896, 169, 13, 1], requires_grad=0, device=cpu) = onnx::Conv[dilations=[1, 1], group=1, kernel_shape=[3, 3], pads=[1, 1, 1, 1], strides=[1, 1], onnx_name=\"/features/features.6/Conv\"](%/features/features.5/MaxPool_output_0, %features.6.weight, %features.6.bias), scope: torchvision.models.alexnet.AlexNet::/torch.nn.modules.container.Sequential::features/torch.nn.modules.conv.Conv2d::features.6 # /home/kostas84/Desktop/Programming/ONNX/onnx-exporter-guide/.venv/lib/python3.10/site-packages/torch/nn/modules/conv.py:456:0\n",
      "  %/features/features.7/Relu_output_0 : Float(1, 384, 13, 13, strides=[64896, 169, 13, 1], requires_grad=1, device=cpu) = onnx::Relu[onnx_name=\"/features/features.7/Relu\"](%/features/features.6/Conv_output_0), scope: torchvision.models.alexnet.AlexNet::/torch.nn.modules.container.Sequential::features/torch.nn.modules.activation.ReLU::features.7 # /home/kostas84/Desktop/Programming/ONNX/onnx-exporter-guide/.venv/lib/python3.10/site-packages/torch/nn/functional.py:1498:0\n",
      "  %/features/features.8/Conv_output_0 : Float(1, 256, 13, 13, strides=[43264, 169, 13, 1], requires_grad=0, device=cpu) = onnx::Conv[dilations=[1, 1], group=1, kernel_shape=[3, 3], pads=[1, 1, 1, 1], strides=[1, 1], onnx_name=\"/features/features.8/Conv\"](%/features/features.7/Relu_output_0, %features.8.weight, %features.8.bias), scope: torchvision.models.alexnet.AlexNet::/torch.nn.modules.container.Sequential::features/torch.nn.modules.conv.Conv2d::features.8 # /home/kostas84/Desktop/Programming/ONNX/onnx-exporter-guide/.venv/lib/python3.10/site-packages/torch/nn/modules/conv.py:456:0\n",
      "  %/features/features.9/Relu_output_0 : Float(1, 256, 13, 13, strides=[43264, 169, 13, 1], requires_grad=1, device=cpu) = onnx::Relu[onnx_name=\"/features/features.9/Relu\"](%/features/features.8/Conv_output_0), scope: torchvision.models.alexnet.AlexNet::/torch.nn.modules.container.Sequential::features/torch.nn.modules.activation.ReLU::features.9 # /home/kostas84/Desktop/Programming/ONNX/onnx-exporter-guide/.venv/lib/python3.10/site-packages/torch/nn/functional.py:1498:0\n",
      "  %/features/features.10/Conv_output_0 : Float(1, 256, 13, 13, strides=[43264, 169, 13, 1], requires_grad=0, device=cpu) = onnx::Conv[dilations=[1, 1], group=1, kernel_shape=[3, 3], pads=[1, 1, 1, 1], strides=[1, 1], onnx_name=\"/features/features.10/Conv\"](%/features/features.9/Relu_output_0, %features.10.weight, %features.10.bias), scope: torchvision.models.alexnet.AlexNet::/torch.nn.modules.container.Sequential::features/torch.nn.modules.conv.Conv2d::features.10 # /home/kostas84/Desktop/Programming/ONNX/onnx-exporter-guide/.venv/lib/python3.10/site-packages/torch/nn/modules/conv.py:456:0\n",
      "  %/features/features.11/Relu_output_0 : Float(1, 256, 13, 13, strides=[43264, 169, 13, 1], requires_grad=1, device=cpu) = onnx::Relu[onnx_name=\"/features/features.11/Relu\"](%/features/features.10/Conv_output_0), scope: torchvision.models.alexnet.AlexNet::/torch.nn.modules.container.Sequential::features/torch.nn.modules.activation.ReLU::features.11 # /home/kostas84/Desktop/Programming/ONNX/onnx-exporter-guide/.venv/lib/python3.10/site-packages/torch/nn/functional.py:1498:0\n",
      "  %/features/features.12/MaxPool_output_0 : Float(1, 256, 6, 6, strides=[9216, 36, 6, 1], requires_grad=1, device=cpu) = onnx::MaxPool[ceil_mode=0, dilations=[1, 1], kernel_shape=[3, 3], pads=[0, 0, 0, 0], strides=[2, 2], onnx_name=\"/features/features.12/MaxPool\"](%/features/features.11/Relu_output_0), scope: torchvision.models.alexnet.AlexNet::/torch.nn.modules.container.Sequential::features/torch.nn.modules.pooling.MaxPool2d::features.12 # /home/kostas84/Desktop/Programming/ONNX/onnx-exporter-guide/.venv/lib/python3.10/site-packages/torch/nn/functional.py:796:0\n",
      "  %/avgpool/AveragePool_output_0 : Float(1, 256, 6, 6, strides=[9216, 36, 6, 1], requires_grad=1, device=cpu) = onnx::AveragePool[kernel_shape=[1, 1], strides=[1, 1], onnx_name=\"/avgpool/AveragePool\"](%/features/features.12/MaxPool_output_0), scope: torchvision.models.alexnet.AlexNet::/torch.nn.modules.pooling.AdaptiveAvgPool2d::avgpool # /home/kostas84/Desktop/Programming/ONNX/onnx-exporter-guide/.venv/lib/python3.10/site-packages/torch/nn/functional.py:1260:0\n",
      "  %/Flatten_output_0 : Float(1, 9216, strides=[9216, 1], requires_grad=1, device=cpu) = onnx::Flatten[axis=1, onnx_name=\"/Flatten\"](%/avgpool/AveragePool_output_0), scope: torchvision.models.alexnet.AlexNet:: # /home/kostas84/Desktop/Programming/ONNX/onnx-exporter-guide/.venv/lib/python3.10/site-packages/torchvision/models/alexnet.py:50:0\n",
      "  %/classifier/classifier.1/Gemm_output_0 : Float(1, 4096, strides=[4096, 1], requires_grad=1, device=cpu) = onnx::Gemm[alpha=1., beta=1., transB=1, onnx_name=\"/classifier/classifier.1/Gemm\"](%/Flatten_output_0, %classifier.1.weight, %classifier.1.bias), scope: torchvision.models.alexnet.AlexNet::/torch.nn.modules.container.Sequential::classifier/torch.nn.modules.linear.Linear::classifier.1 # /home/kostas84/Desktop/Programming/ONNX/onnx-exporter-guide/.venv/lib/python3.10/site-packages/torch/nn/modules/linear.py:116:0\n",
      "  %/classifier/classifier.2/Relu_output_0 : Float(1, 4096, strides=[4096, 1], requires_grad=1, device=cpu) = onnx::Relu[onnx_name=\"/classifier/classifier.2/Relu\"](%/classifier/classifier.1/Gemm_output_0), scope: torchvision.models.alexnet.AlexNet::/torch.nn.modules.container.Sequential::classifier/torch.nn.modules.activation.ReLU::classifier.2 # /home/kostas84/Desktop/Programming/ONNX/onnx-exporter-guide/.venv/lib/python3.10/site-packages/torch/nn/functional.py:1498:0\n",
      "  %/classifier/classifier.4/Gemm_output_0 : Float(1, 4096, strides=[4096, 1], requires_grad=1, device=cpu) = onnx::Gemm[alpha=1., beta=1., transB=1, onnx_name=\"/classifier/classifier.4/Gemm\"](%/classifier/classifier.2/Relu_output_0, %classifier.4.weight, %classifier.4.bias), scope: torchvision.models.alexnet.AlexNet::/torch.nn.modules.container.Sequential::classifier/torch.nn.modules.linear.Linear::classifier.4 # /home/kostas84/Desktop/Programming/ONNX/onnx-exporter-guide/.venv/lib/python3.10/site-packages/torch/nn/modules/linear.py:116:0\n",
      "  %/classifier/classifier.5/Relu_output_0 : Float(1, 4096, strides=[4096, 1], requires_grad=1, device=cpu) = onnx::Relu[onnx_name=\"/classifier/classifier.5/Relu\"](%/classifier/classifier.4/Gemm_output_0), scope: torchvision.models.alexnet.AlexNet::/torch.nn.modules.container.Sequential::classifier/torch.nn.modules.activation.ReLU::classifier.5 # /home/kostas84/Desktop/Programming/ONNX/onnx-exporter-guide/.venv/lib/python3.10/site-packages/torch/nn/functional.py:1498:0\n",
      "  %output : Float(1, 1000, strides=[1000, 1], requires_grad=1, device=cpu) = onnx::Gemm[alpha=1., beta=1., transB=1, onnx_name=\"/classifier/classifier.6/Gemm\"](%/classifier/classifier.5/Relu_output_0, %classifier.6.weight, %classifier.6.bias), scope: torchvision.models.alexnet.AlexNet::/torch.nn.modules.container.Sequential::classifier/torch.nn.modules.linear.Linear::classifier.6 # /home/kostas84/Desktop/Programming/ONNX/onnx-exporter-guide/.venv/lib/python3.10/site-packages/torch/nn/modules/linear.py:116:0\n",
      "  return (%output)\n",
      "\n"
     ]
    }
   ],
   "source": [
    "torch.onnx.export( alexnet,\n",
    "                  dummy_input,\n",
    "                  \"alexnet.onnx\", \n",
    "                  verbose=True, \n",
    "                  input_names=[\"input\"],\n",
    "                  output_names=[\"output\"])"
   ]
  },
  {
   "cell_type": "markdown",
   "metadata": {},
   "source": []
  },
  {
   "cell_type": "markdown",
   "metadata": {},
   "source": [
    "## Verify ONNX Model"
   ]
  },
  {
   "cell_type": "code",
   "execution_count": 35,
   "metadata": {},
   "outputs": [
    {
     "name": "stdout",
     "output_type": "stream",
     "text": [
      "Input names: input\n",
      "Output names: output\n"
     ]
    }
   ],
   "source": [
    "import onnxruntime as ort\n",
    "\n",
    "alexnet_onnx = ort.InferenceSession(\"alexnet.onnx\")\n",
    "\n",
    "print(\"Input names:\", alexnet_onnx.get_inputs()[0].name)\n",
    "print(\"Output names:\", alexnet_onnx.get_outputs()[0].name)"
   ]
  },
  {
   "cell_type": "markdown",
   "metadata": {},
   "source": [
    "## Verification over Netron\n",
    "\n",
    "<img src=\"input_alexnet.png\" alt=\"Input of AlexNet in Netron\" width=\"1200\" height=\"400\">"
   ]
  },
  {
   "cell_type": "markdown",
   "metadata": {},
   "source": [
    "<img src=\"output_alexnet.png\" alt=\"Output of AlexNet in Netron\" width=\"1000\" height=\"500\">"
   ]
  }
 ],
 "metadata": {
  "kernelspec": {
   "display_name": ".venv",
   "language": "python",
   "name": "python3"
  },
  "language_info": {
   "codemirror_mode": {
    "name": "ipython",
    "version": 3
   },
   "file_extension": ".py",
   "mimetype": "text/x-python",
   "name": "python",
   "nbconvert_exporter": "python",
   "pygments_lexer": "ipython3",
   "version": "3.10.12"
  }
 },
 "nbformat": 4,
 "nbformat_minor": 2
}
